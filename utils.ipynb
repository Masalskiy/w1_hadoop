{
 "cells": [
  {
   "cell_type": "code",
   "execution_count": 84,
   "metadata": {},
   "outputs": [
    {
     "name": "stdout",
     "output_type": "stream",
     "text": [
      "Requirement already satisfied: pandas in ./.venv/lib/python3.10/site-packages (2.1.2)\n",
      "Requirement already satisfied: numpy<2,>=1.22.4 in ./.venv/lib/python3.10/site-packages (from pandas) (1.26.1)\n",
      "Requirement already satisfied: python-dateutil>=2.8.2 in ./.venv/lib/python3.10/site-packages (from pandas) (2.8.2)\n",
      "Requirement already satisfied: pytz>=2020.1 in ./.venv/lib/python3.10/site-packages (from pandas) (2023.3.post1)\n",
      "Requirement already satisfied: tzdata>=2022.1 in ./.venv/lib/python3.10/site-packages (from pandas) (2023.3)\n",
      "Requirement already satisfied: six>=1.5 in ./.venv/lib/python3.10/site-packages (from python-dateutil>=2.8.2->pandas) (1.16.0)\n"
     ]
    }
   ],
   "source": [
    "import sys\n",
    "!{sys.executable} -m pip install pandas"
   ]
  },
  {
   "cell_type": "code",
   "execution_count": 133,
   "metadata": {},
   "outputs": [
    {
     "name": "stderr",
     "output_type": "stream",
     "text": [
      "11077.73s - pydevd: Sending message related to process being replaced timed-out after 5 seconds\n"
     ]
    },
    {
     "name": "stdout",
     "output_type": "stream",
     "text": [
      "Collecting hdfs\n",
      "  Downloading hdfs-2.7.3.tar.gz (43 kB)\n",
      "\u001b[2K     \u001b[90m━━━━━━━━━━━━━━━━━━━━━━━━━━━━━━━━━━━━━━━\u001b[0m \u001b[32m43.5/43.5 kB\u001b[0m \u001b[31m814.6 kB/s\u001b[0m eta \u001b[36m0:00:00\u001b[0ma \u001b[36m0:00:01\u001b[0m\n",
      "\u001b[?25h  Installing build dependencies ... \u001b[?25ldone\n",
      "\u001b[?25h  Getting requirements to build wheel ... \u001b[?25ldone\n",
      "\u001b[?25h  Preparing metadata (pyproject.toml) ... \u001b[?25ldone\n",
      "\u001b[?25hCollecting docopt (from hdfs)\n",
      "  Downloading docopt-0.6.2.tar.gz (25 kB)\n",
      "  Installing build dependencies ... \u001b[?25ldone\n",
      "\u001b[?25h  Getting requirements to build wheel ... \u001b[?25ldone\n",
      "\u001b[?25h  Preparing metadata (pyproject.toml) ... \u001b[?25ldone\n",
      "\u001b[?25hCollecting requests>=2.7.0 (from hdfs)\n",
      "  Using cached requests-2.31.0-py3-none-any.whl.metadata (4.6 kB)\n",
      "Requirement already satisfied: six>=1.9.0 in ./.venv/lib/python3.10/site-packages (from hdfs) (1.16.0)\n",
      "Collecting charset-normalizer<4,>=2 (from requests>=2.7.0->hdfs)\n",
      "  Downloading charset_normalizer-3.3.2-cp310-cp310-manylinux_2_17_x86_64.manylinux2014_x86_64.whl.metadata (33 kB)\n",
      "Collecting idna<4,>=2.5 (from requests>=2.7.0->hdfs)\n",
      "  Using cached idna-3.4-py3-none-any.whl (61 kB)\n",
      "Collecting urllib3<3,>=1.21.1 (from requests>=2.7.0->hdfs)\n",
      "  Downloading urllib3-2.0.7-py3-none-any.whl.metadata (6.6 kB)\n",
      "Collecting certifi>=2017.4.17 (from requests>=2.7.0->hdfs)\n",
      "  Using cached certifi-2023.7.22-py3-none-any.whl.metadata (2.2 kB)\n",
      "Using cached requests-2.31.0-py3-none-any.whl (62 kB)\n",
      "Using cached certifi-2023.7.22-py3-none-any.whl (158 kB)\n",
      "Downloading charset_normalizer-3.3.2-cp310-cp310-manylinux_2_17_x86_64.manylinux2014_x86_64.whl (142 kB)\n",
      "\u001b[2K   \u001b[90m━━━━━━━━━━━━━━━━━━━━━━━━━━━━━━━━━━━━━━━━\u001b[0m \u001b[32m142.1/142.1 kB\u001b[0m \u001b[31m1.8 MB/s\u001b[0m eta \u001b[36m0:00:00\u001b[0ma \u001b[36m0:00:01\u001b[0m\n",
      "\u001b[?25hDownloading urllib3-2.0.7-py3-none-any.whl (124 kB)\n",
      "\u001b[2K   \u001b[90m━━━━━━━━━━━━━━━━━━━━━━━━━━━━━━━━━━━━━━━━\u001b[0m \u001b[32m124.2/124.2 kB\u001b[0m \u001b[31m1.5 MB/s\u001b[0m eta \u001b[36m0:00:00\u001b[0ma \u001b[36m0:00:01\u001b[0m\n",
      "\u001b[?25hBuilding wheels for collected packages: hdfs, docopt\n",
      "  Building wheel for hdfs (pyproject.toml) ... \u001b[?25ldone\n",
      "\u001b[?25h  Created wheel for hdfs: filename=hdfs-2.7.3-py3-none-any.whl size=34325 sha256=ca5e24efa814a2662921112a3889f1dc863cb2aaa888c752a1f6bdbf54af7507\n",
      "  Stored in directory: /home/denis/.cache/pip/wheels/e5/8d/b6/99c1c0a3ac5788c866b0ecd3f48b0134a5910e6ed26011800b\n",
      "  Building wheel for docopt (pyproject.toml) ... \u001b[?25ldone\n",
      "\u001b[?25h  Created wheel for docopt: filename=docopt-0.6.2-py2.py3-none-any.whl size=13706 sha256=fcd6212d0a01c5fdd0ebeadcce633518431490fa7f9a1872a27f5470cd193d9b\n",
      "  Stored in directory: /home/denis/.cache/pip/wheels/fc/ab/d4/5da2067ac95b36618c629a5f93f809425700506f72c9732fac\n",
      "Successfully built hdfs docopt\n",
      "Installing collected packages: docopt, urllib3, idna, charset-normalizer, certifi, requests, hdfs\n",
      "Successfully installed certifi-2023.7.22 charset-normalizer-3.3.2 docopt-0.6.2 hdfs-2.7.3 idna-3.4 requests-2.31.0 urllib3-2.0.7\n"
     ]
    }
   ],
   "source": [
    "# !{sys.executable} -m pip install hdfs"
   ]
  },
  {
   "cell_type": "code",
   "execution_count": 85,
   "metadata": {},
   "outputs": [],
   "source": [
    "import pandas as pd"
   ]
  },
  {
   "cell_type": "code",
   "execution_count": 120,
   "metadata": {},
   "outputs": [],
   "source": [
    "def add_group(df):    \n",
    "    backet_size = len(df)/10\n",
    "    df['group'] = \"\"\n",
    "    for group in range(10):\n",
    "        start = int(group*backet_size)\n",
    "        end = int(backet_size*(group+1))\n",
    "        df.loc[start:end,'group'] = group"
   ]
  },
  {
   "cell_type": "markdown",
   "metadata": {},
   "source": [
    "# Загрузка файлов"
   ]
  },
  {
   "cell_type": "markdown",
   "metadata": {},
   "source": [
    "## Customers"
   ]
  },
  {
   "cell_type": "code",
   "execution_count": 197,
   "metadata": {},
   "outputs": [],
   "source": [
    "customers_df = pd.read_csv('csv_files/customers.csv', index_col='Index', sep=',')"
   ]
  },
  {
   "cell_type": "code",
   "execution_count": 198,
   "metadata": {},
   "outputs": [],
   "source": [
    "customers_df.index.rename('index', inplace=True)"
   ]
  },
  {
   "cell_type": "code",
   "execution_count": 199,
   "metadata": {},
   "outputs": [],
   "source": [
    "customers_df.columns = customers_df.columns.str.lower().str.replace(' ', '_') "
   ]
  },
  {
   "cell_type": "code",
   "execution_count": 215,
   "metadata": {},
   "outputs": [],
   "source": [
    "customers_df['year'] = pd.to_datetime(customers_df.subscription_date, format ='%Y-%M-%d').dt.year"
   ]
  },
  {
   "cell_type": "code",
   "execution_count": 203,
   "metadata": {},
   "outputs": [],
   "source": [
    "add_group(customers_df)"
   ]
  },
  {
   "cell_type": "code",
   "execution_count": 216,
   "metadata": {},
   "outputs": [
    {
     "data": {
      "text/html": [
       "<div>\n",
       "<style scoped>\n",
       "    .dataframe tbody tr th:only-of-type {\n",
       "        vertical-align: middle;\n",
       "    }\n",
       "\n",
       "    .dataframe tbody tr th {\n",
       "        vertical-align: top;\n",
       "    }\n",
       "\n",
       "    .dataframe thead th {\n",
       "        text-align: right;\n",
       "    }\n",
       "</style>\n",
       "<table border=\"1\" class=\"dataframe\">\n",
       "  <thead>\n",
       "    <tr style=\"text-align: right;\">\n",
       "      <th></th>\n",
       "      <th>customer_id</th>\n",
       "      <th>first_name</th>\n",
       "      <th>last_name</th>\n",
       "      <th>company</th>\n",
       "      <th>city</th>\n",
       "      <th>country</th>\n",
       "      <th>phone_1</th>\n",
       "      <th>phone_2</th>\n",
       "      <th>email</th>\n",
       "      <th>subscription_date</th>\n",
       "      <th>website</th>\n",
       "      <th>year</th>\n",
       "      <th>group</th>\n",
       "    </tr>\n",
       "    <tr>\n",
       "      <th>index</th>\n",
       "      <th></th>\n",
       "      <th></th>\n",
       "      <th></th>\n",
       "      <th></th>\n",
       "      <th></th>\n",
       "      <th></th>\n",
       "      <th></th>\n",
       "      <th></th>\n",
       "      <th></th>\n",
       "      <th></th>\n",
       "      <th></th>\n",
       "      <th></th>\n",
       "      <th></th>\n",
       "    </tr>\n",
       "  </thead>\n",
       "  <tbody>\n",
       "    <tr>\n",
       "      <th>1</th>\n",
       "      <td>ffeCAb7AbcB0f07</td>\n",
       "      <td>Dawn</td>\n",
       "      <td>Trevino</td>\n",
       "      <td>Sanchez-Fletcher</td>\n",
       "      <td>Hatfieldshire</td>\n",
       "      <td>Eritrea</td>\n",
       "      <td>274.188.8773x41185</td>\n",
       "      <td>001-215-760-4642x969</td>\n",
       "      <td>clintongood@example.org</td>\n",
       "      <td>2021-11-11</td>\n",
       "      <td>https://www.mccarthy.info/</td>\n",
       "      <td>2021</td>\n",
       "      <td>0</td>\n",
       "    </tr>\n",
       "    <tr>\n",
       "      <th>2</th>\n",
       "      <td>b687FfC4F1600eC</td>\n",
       "      <td>Dale</td>\n",
       "      <td>Mcknight</td>\n",
       "      <td>Mckay PLC</td>\n",
       "      <td>Robertsonburgh</td>\n",
       "      <td>Botswana</td>\n",
       "      <td>283-236-9529</td>\n",
       "      <td>(189)129-8356x63741</td>\n",
       "      <td>clairebradshaw@example.org</td>\n",
       "      <td>2021-05-14</td>\n",
       "      <td>http://www.reynolds.com/</td>\n",
       "      <td>2021</td>\n",
       "      <td>0</td>\n",
       "    </tr>\n",
       "    <tr>\n",
       "      <th>3</th>\n",
       "      <td>9FF9ACbc69dcF9c</td>\n",
       "      <td>Herbert</td>\n",
       "      <td>Bean</td>\n",
       "      <td>Marks and Sons</td>\n",
       "      <td>Kimbury</td>\n",
       "      <td>Barbados</td>\n",
       "      <td>8252703789</td>\n",
       "      <td>459-916-7241x0909</td>\n",
       "      <td>johnnybooker@example.org</td>\n",
       "      <td>2021-03-17</td>\n",
       "      <td>https://neal.com/</td>\n",
       "      <td>2021</td>\n",
       "      <td>0</td>\n",
       "    </tr>\n",
       "    <tr>\n",
       "      <th>4</th>\n",
       "      <td>b49edDB1295FF6E</td>\n",
       "      <td>Karen</td>\n",
       "      <td>Everett</td>\n",
       "      <td>Kirby, Vaughn and Sanders</td>\n",
       "      <td>Briannaview</td>\n",
       "      <td>Antarctica (the territory South of 60 deg S)</td>\n",
       "      <td>425.475.3586</td>\n",
       "      <td>(392)819-9063</td>\n",
       "      <td>wkhan@example.org</td>\n",
       "      <td>2020-09-23</td>\n",
       "      <td>https://www.powell-bryan.com/</td>\n",
       "      <td>2020</td>\n",
       "      <td>0</td>\n",
       "    </tr>\n",
       "    <tr>\n",
       "      <th>5</th>\n",
       "      <td>3dcCbFEB17CCf2E</td>\n",
       "      <td>Angela</td>\n",
       "      <td>Shea</td>\n",
       "      <td>Lester-Manning</td>\n",
       "      <td>South Brianna</td>\n",
       "      <td>Micronesia</td>\n",
       "      <td>+1-223-666-5313x4530</td>\n",
       "      <td>252-488-3850x692</td>\n",
       "      <td>reginaldgarner@example.com</td>\n",
       "      <td>2020-09-18</td>\n",
       "      <td>https://www.carrillo.com/</td>\n",
       "      <td>2020</td>\n",
       "      <td>0</td>\n",
       "    </tr>\n",
       "  </tbody>\n",
       "</table>\n",
       "</div>"
      ],
      "text/plain": [
       "           customer_id first_name last_name                    company  \\\n",
       "index                                                                    \n",
       "1      ffeCAb7AbcB0f07       Dawn   Trevino           Sanchez-Fletcher   \n",
       "2      b687FfC4F1600eC       Dale  Mcknight                  Mckay PLC   \n",
       "3      9FF9ACbc69dcF9c    Herbert      Bean             Marks and Sons   \n",
       "4      b49edDB1295FF6E      Karen   Everett  Kirby, Vaughn and Sanders   \n",
       "5      3dcCbFEB17CCf2E     Angela      Shea             Lester-Manning   \n",
       "\n",
       "                 city                                       country  \\\n",
       "index                                                                 \n",
       "1       Hatfieldshire                                       Eritrea   \n",
       "2      Robertsonburgh                                      Botswana   \n",
       "3             Kimbury                                      Barbados   \n",
       "4         Briannaview  Antarctica (the territory South of 60 deg S)   \n",
       "5       South Brianna                                    Micronesia   \n",
       "\n",
       "                    phone_1               phone_2                       email  \\\n",
       "index                                                                           \n",
       "1        274.188.8773x41185  001-215-760-4642x969     clintongood@example.org   \n",
       "2              283-236-9529   (189)129-8356x63741  clairebradshaw@example.org   \n",
       "3                8252703789     459-916-7241x0909    johnnybooker@example.org   \n",
       "4              425.475.3586         (392)819-9063           wkhan@example.org   \n",
       "5      +1-223-666-5313x4530      252-488-3850x692  reginaldgarner@example.com   \n",
       "\n",
       "      subscription_date                        website  year group  \n",
       "index                                                               \n",
       "1            2021-11-11     https://www.mccarthy.info/  2021     0  \n",
       "2            2021-05-14       http://www.reynolds.com/  2021     0  \n",
       "3            2021-03-17              https://neal.com/  2021     0  \n",
       "4            2020-09-23  https://www.powell-bryan.com/  2020     0  \n",
       "5            2020-09-18      https://www.carrillo.com/  2020     0  "
      ]
     },
     "execution_count": 216,
     "metadata": {},
     "output_type": "execute_result"
    }
   ],
   "source": [
    "customers_df.head()"
   ]
  },
  {
   "cell_type": "code",
   "execution_count": 230,
   "metadata": {},
   "outputs": [
    {
     "data": {
      "text/plain": [
       "array([2021, 2020, 2022], dtype=int32)"
      ]
     },
     "execution_count": 230,
     "metadata": {},
     "output_type": "execute_result"
    }
   ],
   "source": [
    "customers_df.year.unique()"
   ]
  },
  {
   "cell_type": "markdown",
   "metadata": {},
   "source": [
    "## organization"
   ]
  },
  {
   "cell_type": "code",
   "execution_count": 204,
   "metadata": {},
   "outputs": [],
   "source": [
    "organization_df = pd.read_csv('csv_files/organizations.csv', index_col='Index', sep=',')"
   ]
  },
  {
   "cell_type": "code",
   "execution_count": 205,
   "metadata": {},
   "outputs": [],
   "source": [
    "organization_df.index.rename('index', inplace=True)"
   ]
  },
  {
   "cell_type": "code",
   "execution_count": 206,
   "metadata": {},
   "outputs": [],
   "source": [
    "organization_df.columns = organization_df.columns.str.lower().str.replace(' ', '_') "
   ]
  },
  {
   "cell_type": "code",
   "execution_count": 207,
   "metadata": {},
   "outputs": [],
   "source": [
    "add_group(organization_df)"
   ]
  },
  {
   "cell_type": "code",
   "execution_count": 231,
   "metadata": {},
   "outputs": [
    {
     "data": {
      "text/plain": [
       "array([2019, 2005, 1982, 2016, 1978, 2008, 2000, 1990, 2014, 1992, 1980,\n",
       "       2012, 1984, 1991, 2003, 1971, 1985, 1998, 1977, 2015, 1987, 1997,\n",
       "       1994, 2002, 2013, 1999, 2020, 2009, 1989, 2010, 2007, 2001, 1996,\n",
       "       1979, 1986, 1970, 2022, 1974, 2006, 2018, 1988, 1976, 1995, 1981,\n",
       "       1983, 2017, 1993, 1975, 2021, 2011, 1972, 1973, 2004])"
      ]
     },
     "execution_count": 231,
     "metadata": {},
     "output_type": "execute_result"
    }
   ],
   "source": [
    "organization_df.founded.unique()"
   ]
  },
  {
   "cell_type": "markdown",
   "metadata": {},
   "source": [
    "## people"
   ]
  },
  {
   "cell_type": "code",
   "execution_count": 208,
   "metadata": {},
   "outputs": [],
   "source": [
    "people_df = pd.read_csv('csv_files/people.csv', index_col='Index', sep=',')"
   ]
  },
  {
   "cell_type": "code",
   "execution_count": 209,
   "metadata": {},
   "outputs": [],
   "source": [
    "people_df.index.rename('index', inplace=True)"
   ]
  },
  {
   "cell_type": "code",
   "execution_count": 210,
   "metadata": {},
   "outputs": [],
   "source": [
    "people_df.columns = people_df.columns.str.lower().str.replace(' ', '_') "
   ]
  },
  {
   "cell_type": "code",
   "execution_count": 238,
   "metadata": {},
   "outputs": [],
   "source": [
    "people_df['year'] = pd.to_datetime(people_df.date_of_birth, format ='%Y-%M-%d').dt.year"
   ]
  },
  {
   "cell_type": "code",
   "execution_count": 240,
   "metadata": {},
   "outputs": [],
   "source": [
    "people_df['sex'] = people_df['sex'].str.lower()"
   ]
  },
  {
   "cell_type": "code",
   "execution_count": 211,
   "metadata": {},
   "outputs": [],
   "source": [
    "add_group(people_df)"
   ]
  },
  {
   "cell_type": "code",
   "execution_count": 241,
   "metadata": {},
   "outputs": [
    {
     "data": {
      "text/html": [
       "<div>\n",
       "<style scoped>\n",
       "    .dataframe tbody tr th:only-of-type {\n",
       "        vertical-align: middle;\n",
       "    }\n",
       "\n",
       "    .dataframe tbody tr th {\n",
       "        vertical-align: top;\n",
       "    }\n",
       "\n",
       "    .dataframe thead th {\n",
       "        text-align: right;\n",
       "    }\n",
       "</style>\n",
       "<table border=\"1\" class=\"dataframe\">\n",
       "  <thead>\n",
       "    <tr style=\"text-align: right;\">\n",
       "      <th></th>\n",
       "      <th>user_id</th>\n",
       "      <th>first_name</th>\n",
       "      <th>last_name</th>\n",
       "      <th>sex</th>\n",
       "      <th>email</th>\n",
       "      <th>phone</th>\n",
       "      <th>date_of_birth</th>\n",
       "      <th>job_title</th>\n",
       "      <th>group</th>\n",
       "      <th>year</th>\n",
       "    </tr>\n",
       "    <tr>\n",
       "      <th>index</th>\n",
       "      <th></th>\n",
       "      <th></th>\n",
       "      <th></th>\n",
       "      <th></th>\n",
       "      <th></th>\n",
       "      <th></th>\n",
       "      <th></th>\n",
       "      <th></th>\n",
       "      <th></th>\n",
       "      <th></th>\n",
       "    </tr>\n",
       "  </thead>\n",
       "  <tbody>\n",
       "    <tr>\n",
       "      <th>99996</th>\n",
       "      <td>eDbebb82Bdf859c</td>\n",
       "      <td>Eduardo</td>\n",
       "      <td>Fuentes</td>\n",
       "      <td>male</td>\n",
       "      <td>zacharygalloway@example.net</td>\n",
       "      <td>971-408-5795x791</td>\n",
       "      <td>2015-09-02</td>\n",
       "      <td>Designer, graphic</td>\n",
       "      <td>9</td>\n",
       "      <td>2015</td>\n",
       "    </tr>\n",
       "    <tr>\n",
       "      <th>99997</th>\n",
       "      <td>78B30216f7Ad5eA</td>\n",
       "      <td>Marcus</td>\n",
       "      <td>Ferguson</td>\n",
       "      <td>male</td>\n",
       "      <td>qkane@example.org</td>\n",
       "      <td>001-183-966-1623x446</td>\n",
       "      <td>1978-01-30</td>\n",
       "      <td>Cytogeneticist</td>\n",
       "      <td>9</td>\n",
       "      <td>1978</td>\n",
       "    </tr>\n",
       "    <tr>\n",
       "      <th>99998</th>\n",
       "      <td>E0edBf053adCEc1</td>\n",
       "      <td>Marilyn</td>\n",
       "      <td>Benson</td>\n",
       "      <td>male</td>\n",
       "      <td>jenny91@example.com</td>\n",
       "      <td>3010820886</td>\n",
       "      <td>1939-07-11</td>\n",
       "      <td>Engineering geologist</td>\n",
       "      <td>9</td>\n",
       "      <td>1939</td>\n",
       "    </tr>\n",
       "    <tr>\n",
       "      <th>99999</th>\n",
       "      <td>fA585A02f6A86C5</td>\n",
       "      <td>Felicia</td>\n",
       "      <td>Robbins</td>\n",
       "      <td>female</td>\n",
       "      <td>imcneil@example.com</td>\n",
       "      <td>(753)522-4673</td>\n",
       "      <td>1942-02-05</td>\n",
       "      <td>Clinical cytogeneticist</td>\n",
       "      <td>9</td>\n",
       "      <td>1942</td>\n",
       "    </tr>\n",
       "    <tr>\n",
       "      <th>100000</th>\n",
       "      <td>FE35edEdE3BaC90</td>\n",
       "      <td>Jackie</td>\n",
       "      <td>Doyle</td>\n",
       "      <td>male</td>\n",
       "      <td>emay@example.net</td>\n",
       "      <td>357.974.5692x909</td>\n",
       "      <td>1918-05-30</td>\n",
       "      <td>Teacher, special educational needs</td>\n",
       "      <td>9</td>\n",
       "      <td>1918</td>\n",
       "    </tr>\n",
       "  </tbody>\n",
       "</table>\n",
       "</div>"
      ],
      "text/plain": [
       "                user_id first_name last_name     sex  \\\n",
       "index                                                  \n",
       "99996   eDbebb82Bdf859c    Eduardo   Fuentes    male   \n",
       "99997   78B30216f7Ad5eA     Marcus  Ferguson    male   \n",
       "99998   E0edBf053adCEc1    Marilyn    Benson    male   \n",
       "99999   fA585A02f6A86C5    Felicia   Robbins  female   \n",
       "100000  FE35edEdE3BaC90     Jackie     Doyle    male   \n",
       "\n",
       "                              email                 phone date_of_birth  \\\n",
       "index                                                                     \n",
       "99996   zacharygalloway@example.net      971-408-5795x791    2015-09-02   \n",
       "99997             qkane@example.org  001-183-966-1623x446    1978-01-30   \n",
       "99998           jenny91@example.com            3010820886    1939-07-11   \n",
       "99999           imcneil@example.com         (753)522-4673    1942-02-05   \n",
       "100000             emay@example.net      357.974.5692x909    1918-05-30   \n",
       "\n",
       "                                 job_title group  year  \n",
       "index                                                   \n",
       "99996                    Designer, graphic     9  2015  \n",
       "99997                       Cytogeneticist     9  1978  \n",
       "99998                Engineering geologist     9  1939  \n",
       "99999              Clinical cytogeneticist     9  1942  \n",
       "100000  Teacher, special educational needs     9  1918  "
      ]
     },
     "execution_count": 241,
     "metadata": {},
     "output_type": "execute_result"
    }
   ],
   "source": [
    "people_df.tail()"
   ]
  },
  {
   "cell_type": "code",
   "execution_count": 242,
   "metadata": {},
   "outputs": [
    {
     "data": {
      "text/plain": [
       "0"
      ]
     },
     "execution_count": 242,
     "metadata": {},
     "output_type": "execute_result"
    }
   ],
   "source": [
    "people_df.sex.isnull().sum()"
   ]
  },
  {
   "cell_type": "markdown",
   "metadata": {},
   "source": [
    "### Сохранение"
   ]
  },
  {
   "cell_type": "code",
   "execution_count": 228,
   "metadata": {},
   "outputs": [],
   "source": [
    "import os \n",
    "os.makedirs('out_csv', exist_ok=True)\n",
    "people_df.to_csv('out_csv/people_df.csv', sep=\"\\t\", header=False)\n",
    "organization_df.to_csv('out_csv/organization_df.csv',  sep=\"\\t\", header=False)\n",
    "customers_df.to_csv('out_csv/customers_df.csv',  sep=\"\\t\", header=False)\n"
   ]
  },
  {
   "cell_type": "code",
   "execution_count": 158,
   "metadata": {},
   "outputs": [],
   "source": [
    "# from hdfs import InsecureClient\n",
    "# client = InsecureClient('http://localhost:50070')"
   ]
  },
  {
   "cell_type": "code",
   "execution_count": null,
   "metadata": {},
   "outputs": [],
   "source": [
    "# client.write('/user/denis/peaople_df.csv', data='people_df.csv')"
   ]
  },
  {
   "cell_type": "code",
   "execution_count": 219,
   "metadata": {},
   "outputs": [
    {
     "data": {
      "text/html": [
       "<div>\n",
       "<style scoped>\n",
       "    .dataframe tbody tr th:only-of-type {\n",
       "        vertical-align: middle;\n",
       "    }\n",
       "\n",
       "    .dataframe tbody tr th {\n",
       "        vertical-align: top;\n",
       "    }\n",
       "\n",
       "    .dataframe thead th {\n",
       "        text-align: right;\n",
       "    }\n",
       "</style>\n",
       "<table border=\"1\" class=\"dataframe\">\n",
       "  <thead>\n",
       "    <tr style=\"text-align: right;\">\n",
       "      <th></th>\n",
       "      <th>customer_id</th>\n",
       "      <th>first_name</th>\n",
       "      <th>last_name</th>\n",
       "      <th>company</th>\n",
       "      <th>city</th>\n",
       "      <th>country</th>\n",
       "      <th>phone_1</th>\n",
       "      <th>phone_2</th>\n",
       "      <th>email</th>\n",
       "      <th>subscription_date</th>\n",
       "      <th>website</th>\n",
       "      <th>year</th>\n",
       "      <th>group</th>\n",
       "    </tr>\n",
       "    <tr>\n",
       "      <th>index</th>\n",
       "      <th></th>\n",
       "      <th></th>\n",
       "      <th></th>\n",
       "      <th></th>\n",
       "      <th></th>\n",
       "      <th></th>\n",
       "      <th></th>\n",
       "      <th></th>\n",
       "      <th></th>\n",
       "      <th></th>\n",
       "      <th></th>\n",
       "      <th></th>\n",
       "      <th></th>\n",
       "    </tr>\n",
       "  </thead>\n",
       "  <tbody>\n",
       "    <tr>\n",
       "      <th>1</th>\n",
       "      <td>ffeCAb7AbcB0f07</td>\n",
       "      <td>Dawn</td>\n",
       "      <td>Trevino</td>\n",
       "      <td>Sanchez-Fletcher</td>\n",
       "      <td>Hatfieldshire</td>\n",
       "      <td>Eritrea</td>\n",
       "      <td>274.188.8773x41185</td>\n",
       "      <td>001-215-760-4642x969</td>\n",
       "      <td>clintongood@example.org</td>\n",
       "      <td>2021-11-11</td>\n",
       "      <td>https://www.mccarthy.info/</td>\n",
       "      <td>2021</td>\n",
       "      <td>0</td>\n",
       "    </tr>\n",
       "    <tr>\n",
       "      <th>2</th>\n",
       "      <td>b687FfC4F1600eC</td>\n",
       "      <td>Dale</td>\n",
       "      <td>Mcknight</td>\n",
       "      <td>Mckay PLC</td>\n",
       "      <td>Robertsonburgh</td>\n",
       "      <td>Botswana</td>\n",
       "      <td>283-236-9529</td>\n",
       "      <td>(189)129-8356x63741</td>\n",
       "      <td>clairebradshaw@example.org</td>\n",
       "      <td>2021-05-14</td>\n",
       "      <td>http://www.reynolds.com/</td>\n",
       "      <td>2021</td>\n",
       "      <td>0</td>\n",
       "    </tr>\n",
       "    <tr>\n",
       "      <th>3</th>\n",
       "      <td>9FF9ACbc69dcF9c</td>\n",
       "      <td>Herbert</td>\n",
       "      <td>Bean</td>\n",
       "      <td>Marks and Sons</td>\n",
       "      <td>Kimbury</td>\n",
       "      <td>Barbados</td>\n",
       "      <td>8252703789</td>\n",
       "      <td>459-916-7241x0909</td>\n",
       "      <td>johnnybooker@example.org</td>\n",
       "      <td>2021-03-17</td>\n",
       "      <td>https://neal.com/</td>\n",
       "      <td>2021</td>\n",
       "      <td>0</td>\n",
       "    </tr>\n",
       "    <tr>\n",
       "      <th>4</th>\n",
       "      <td>b49edDB1295FF6E</td>\n",
       "      <td>Karen</td>\n",
       "      <td>Everett</td>\n",
       "      <td>Kirby, Vaughn and Sanders</td>\n",
       "      <td>Briannaview</td>\n",
       "      <td>Antarctica (the territory South of 60 deg S)</td>\n",
       "      <td>425.475.3586</td>\n",
       "      <td>(392)819-9063</td>\n",
       "      <td>wkhan@example.org</td>\n",
       "      <td>2020-09-23</td>\n",
       "      <td>https://www.powell-bryan.com/</td>\n",
       "      <td>2020</td>\n",
       "      <td>0</td>\n",
       "    </tr>\n",
       "    <tr>\n",
       "      <th>5</th>\n",
       "      <td>3dcCbFEB17CCf2E</td>\n",
       "      <td>Angela</td>\n",
       "      <td>Shea</td>\n",
       "      <td>Lester-Manning</td>\n",
       "      <td>South Brianna</td>\n",
       "      <td>Micronesia</td>\n",
       "      <td>+1-223-666-5313x4530</td>\n",
       "      <td>252-488-3850x692</td>\n",
       "      <td>reginaldgarner@example.com</td>\n",
       "      <td>2020-09-18</td>\n",
       "      <td>https://www.carrillo.com/</td>\n",
       "      <td>2020</td>\n",
       "      <td>0</td>\n",
       "    </tr>\n",
       "  </tbody>\n",
       "</table>\n",
       "</div>"
      ],
      "text/plain": [
       "           customer_id first_name last_name                    company  \\\n",
       "index                                                                    \n",
       "1      ffeCAb7AbcB0f07       Dawn   Trevino           Sanchez-Fletcher   \n",
       "2      b687FfC4F1600eC       Dale  Mcknight                  Mckay PLC   \n",
       "3      9FF9ACbc69dcF9c    Herbert      Bean             Marks and Sons   \n",
       "4      b49edDB1295FF6E      Karen   Everett  Kirby, Vaughn and Sanders   \n",
       "5      3dcCbFEB17CCf2E     Angela      Shea             Lester-Manning   \n",
       "\n",
       "                 city                                       country  \\\n",
       "index                                                                 \n",
       "1       Hatfieldshire                                       Eritrea   \n",
       "2      Robertsonburgh                                      Botswana   \n",
       "3             Kimbury                                      Barbados   \n",
       "4         Briannaview  Antarctica (the territory South of 60 deg S)   \n",
       "5       South Brianna                                    Micronesia   \n",
       "\n",
       "                    phone_1               phone_2                       email  \\\n",
       "index                                                                           \n",
       "1        274.188.8773x41185  001-215-760-4642x969     clintongood@example.org   \n",
       "2              283-236-9529   (189)129-8356x63741  clairebradshaw@example.org   \n",
       "3                8252703789     459-916-7241x0909    johnnybooker@example.org   \n",
       "4              425.475.3586         (392)819-9063           wkhan@example.org   \n",
       "5      +1-223-666-5313x4530      252-488-3850x692  reginaldgarner@example.com   \n",
       "\n",
       "      subscription_date                        website  year group  \n",
       "index                                                               \n",
       "1            2021-11-11     https://www.mccarthy.info/  2021     0  \n",
       "2            2021-05-14       http://www.reynolds.com/  2021     0  \n",
       "3            2021-03-17              https://neal.com/  2021     0  \n",
       "4            2020-09-23  https://www.powell-bryan.com/  2020     0  \n",
       "5            2020-09-18      https://www.carrillo.com/  2020     0  "
      ]
     },
     "execution_count": 219,
     "metadata": {},
     "output_type": "execute_result"
    }
   ],
   "source": [
    "customers_df.head()"
   ]
  }
 ],
 "metadata": {
  "kernelspec": {
   "display_name": ".venv",
   "language": "python",
   "name": "python3"
  },
  "language_info": {
   "codemirror_mode": {
    "name": "ipython",
    "version": 3
   },
   "file_extension": ".py",
   "mimetype": "text/x-python",
   "name": "python",
   "nbconvert_exporter": "python",
   "pygments_lexer": "ipython3",
   "version": "3.10.12"
  }
 },
 "nbformat": 4,
 "nbformat_minor": 2
}
